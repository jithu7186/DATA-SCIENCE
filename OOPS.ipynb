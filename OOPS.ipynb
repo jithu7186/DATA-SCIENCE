{
 "cells": [
  {
   "cell_type": "markdown",
   "id": "39cf9dc3-d52b-43a4-9f2a-14f0e9acbea3",
   "metadata": {},
   "source": [
    "## CLASS AND OBJECT"
   ]
  },
  {
   "cell_type": "code",
   "execution_count": 17,
   "id": "19f5a103-f510-47b6-9b96-c3eb2a8d4ac9",
   "metadata": {},
   "outputs": [
    {
     "data": {
      "text/plain": [
       "22"
      ]
     },
     "execution_count": 17,
     "metadata": {},
     "output_type": "execute_result"
    }
   ],
   "source": [
    "class studentinfo:\n",
    "    def __init__(self,name,age,mark):\n",
    "        self.name=name\n",
    "        self.age=age\n",
    "        self.mark=mark\n",
    "\n",
    "    def ageadd(self):\n",
    "        self.age=self.age+5\n",
    "        print(f\"Age is {self.age}\")\n",
    "\n",
    "o1=studentinfo(\"jithu\",22,450)\n",
    "o2=studentinfo(\"paul\",23,470)\n",
    "o1.age"
   ]
  },
  {
   "cell_type": "code",
   "execution_count": 18,
   "id": "a43bdf69-3e0e-408e-82b8-d3da87f09bd5",
   "metadata": {},
   "outputs": [
    {
     "name": "stdout",
     "output_type": "stream",
     "text": [
      "Age is 27\n"
     ]
    }
   ],
   "source": [
    "o1.ageadd()"
   ]
  },
  {
   "cell_type": "code",
   "execution_count": 19,
   "id": "ddcf3fb2-702f-4291-9ce5-796f01aa9822",
   "metadata": {},
   "outputs": [
    {
     "name": "stdout",
     "output_type": "stream",
     "text": [
      "Age is 28\n"
     ]
    }
   ],
   "source": [
    "o2.ageadd()"
   ]
  },
  {
   "cell_type": "code",
   "execution_count": 20,
   "id": "c3c558ba-cddd-4c8a-a6ab-8dc7050d6e54",
   "metadata": {},
   "outputs": [
    {
     "data": {
      "text/plain": [
       "27"
      ]
     },
     "execution_count": 20,
     "metadata": {},
     "output_type": "execute_result"
    }
   ],
   "source": [
    "o1.age\n"
   ]
  },
  {
   "cell_type": "markdown",
   "id": "4906557f-5628-4fb5-a7be-4afb68e5e06e",
   "metadata": {},
   "source": [
    "## MOVIE TICKET GENERATION TASK"
   ]
  },
  {
   "cell_type": "code",
   "execution_count": 13,
   "id": "f3f177b5-7c5a-4494-8757-243aece77c22",
   "metadata": {},
   "outputs": [
    {
     "name": "stdin",
     "output_type": "stream",
     "text": [
      "Enter your name Jithu\n",
      "Enter Movie Name Kalki\n",
      "Enter Total No of Tickets Needed 5\n",
      "Enter the ages of members 17\n",
      "Enter the ages of members 65\n",
      "Enter the ages of members 25\n",
      "Enter the ages of members 55\n",
      "Enter the ages of members 50\n"
     ]
    },
    {
     "name": "stdout",
     "output_type": "stream",
     "text": [
      "Pay Total Amount Of $ 650\n",
      "Thank You Jithu for Booking Kalki With Us, Have a Nice Show\n"
     ]
    }
   ],
   "source": [
    " class ticket:\n",
    "    def __init__(self,name,mname,ntickets):\n",
    "        self.name=name\n",
    "        self.mname=mname\n",
    "        self.ntickets=ntickets\n",
    "        self.pricecal()\n",
    "\n",
    "    def pricecal(self):\n",
    "\n",
    "        ages=[]\n",
    "        total=0\n",
    "        \n",
    "        for i in range(self.ntickets):\n",
    "            \n",
    "              a=int(input(\"Enter the ages of members\"))\n",
    "              ages.append(a)\n",
    "            \n",
    "        for i in ages:\n",
    "            if i<18 or i>60:\n",
    "                price=100\n",
    "                total=total+price\n",
    "\n",
    "            else:\n",
    "                price=150\n",
    "                total=total+price\n",
    "\n",
    "        print(f\"Pay Total Amount Of $ {total}\")\n",
    "        \n",
    "        print(f\"Thank You {self.name} for Booking {self.mname} With Us, Have a Nice Show\")\n",
    "        \n",
    "\n",
    "\n",
    "\n",
    "if __name__==\"__main__\":\n",
    "    name=input(\"Enter your name\")\n",
    "    mname=input(\"Enter Movie Name\")\n",
    "    ntickets=int(input(\"Enter Total No of Tickets Needed\"))\n",
    "                 \n",
    "o1=ticket(name,mname,ntickets)\n",
    "     "
   ]
  },
  {
   "cell_type": "markdown",
   "id": "8fbfbf40-ee9f-4c55-8da6-26d00b2805f6",
   "metadata": {},
   "source": [
    "# ENCAPSULATION \n",
    "## RESTRICTING ACCESS TO SOME COMPONENTS IN OBJECT"
   ]
  },
  {
   "cell_type": "code",
   "execution_count": 48,
   "id": "6f8e943f-867d-47f2-a9f8-7f8c26b0be2f",
   "metadata": {},
   "outputs": [],
   "source": [
    "class software:\n",
    "\n",
    "   def __init__(self,name,age,salary):\n",
    "       self.age=age\n",
    "       self.name=name\n",
    "       self.salary=salary\n",
    "\n",
    "o1=software('jithu',10,45000)"
   ]
  },
  {
   "cell_type": "code",
   "execution_count": 25,
   "id": "5c00f422-9270-41c8-80cd-7f4088a7b194",
   "metadata": {},
   "outputs": [
    {
     "data": {
      "text/plain": [
       "10"
      ]
     },
     "execution_count": 25,
     "metadata": {},
     "output_type": "execute_result"
    }
   ],
   "source": [
    "o1.age"
   ]
  },
  {
   "cell_type": "code",
   "execution_count": 26,
   "id": "ad853c74-ac07-4423-9dac-ae837ea97dda",
   "metadata": {},
   "outputs": [
    {
     "data": {
      "text/plain": [
       "45000"
      ]
     },
     "execution_count": 26,
     "metadata": {},
     "output_type": "execute_result"
    }
   ],
   "source": [
    "o1.salary"
   ]
  },
  {
   "cell_type": "code",
   "execution_count": 47,
   "id": "67fd70d5-8cdb-482c-8f51-e5976ecbb098",
   "metadata": {},
   "outputs": [],
   "source": [
    "class software:\n",
    "\n",
    "   def __init__(self,name,age,salary):\n",
    "       self.age=age\n",
    "       self.name=name\n",
    "       self.__salary=salary # salary encapsulated\n",
    "\n",
    "o1=software('jithu',10,45000)"
   ]
  },
  {
   "cell_type": "code",
   "execution_count": 33,
   "id": "df5dc572-b72a-44f6-b7f5-1ba77ba560ce",
   "metadata": {},
   "outputs": [
    {
     "ename": "AttributeError",
     "evalue": "'employe' object has no attribute '__salary'",
     "output_type": "error",
     "traceback": [
      "\u001b[1;31m---------------------------------------------------------------------------\u001b[0m",
      "\u001b[1;31mAttributeError\u001b[0m                            Traceback (most recent call last)",
      "Cell \u001b[1;32mIn[33], line 1\u001b[0m\n\u001b[1;32m----> 1\u001b[0m \u001b[43mo1\u001b[49m\u001b[38;5;241;43m.\u001b[39;49m\u001b[43m__salary\u001b[49m\n",
      "\u001b[1;31mAttributeError\u001b[0m: 'employe' object has no attribute '__salary'"
     ]
    }
   ],
   "source": [
    "o1.__salary"
   ]
  },
  {
   "cell_type": "markdown",
   "id": "85306cfb-5124-4a27-825e-8017b9e26142",
   "metadata": {},
   "source": [
    "## GETTER METHOD \n",
    "  ### - A METHOD ALLOWS TO ACCESS AN ATRIBUTE IN A GIVEN CLASS"
   ]
  },
  {
   "cell_type": "code",
   "execution_count": 46,
   "id": "744d52a0-ed56-4402-a7ee-db496bcd4cdb",
   "metadata": {},
   "outputs": [
    {
     "name": "stdout",
     "output_type": "stream",
     "text": [
      "45000\n"
     ]
    }
   ],
   "source": [
    "class software:\n",
    "\n",
    "   def __init__(self,name,age,salary):\n",
    "       self.age=age\n",
    "       self.name=name\n",
    "       self.__salary=salary # salary encapsulated\n",
    "\n",
    "#GETTER\n",
    "\n",
    "   def show_sal(self):\n",
    "        print(self.__salary)\n",
    "            \n",
    "       \n",
    "               \n",
    "           \n",
    "\n",
    "o1=software('jithu',10,45000)\n",
    "o1.show_sal()"
   ]
  },
  {
   "cell_type": "markdown",
   "id": "5723bd16-e67c-4262-8a06-090545f6d4d8",
   "metadata": {},
   "source": [
    "## SETTER METHOD¶\n",
    "  ### A METHOD ALLOWS TO CHANGE A HIDDEN ATRIBUTE IN A GIVEN CLASS"
   ]
  },
  {
   "cell_type": "code",
   "execution_count": 45,
   "id": "f445bc33-4529-434d-8a3e-d30c44d39e00",
   "metadata": {},
   "outputs": [
    {
     "name": "stdout",
     "output_type": "stream",
     "text": [
      "45000\n",
      "50000\n"
     ]
    }
   ],
   "source": [
    "class software:\n",
    "\n",
    "   def __init__(self,name,age,salary):\n",
    "       self.age=age\n",
    "       self.name=name\n",
    "       self.__salary=salary # salary encapsulated\n",
    "\n",
    "#GETTER\n",
    "\n",
    "   def show_sal(self):\n",
    "        print(self.__salary)\n",
    "        self.update_salary()\n",
    "\n",
    "#SETTER\n",
    "\n",
    "   def update_salary(self):\n",
    "       self.__salary=self.__salary+5000\n",
    "       print(self.__salary)\n",
    "            \n",
    "       \n",
    "               \n",
    "           \n",
    "\n",
    "o1=software('jithu',10,45000)\n",
    "o1.show_sal()"
   ]
  },
  {
   "cell_type": "markdown",
   "id": "8480ecca-f8b4-48d7-a4e5-6150919f6a4b",
   "metadata": {},
   "source": [
    "## INHERITANCE\n",
    "#### PARENT CLASS"
   ]
  },
  {
   "cell_type": "code",
   "execution_count": 68,
   "id": "a721ac77-da92-476c-a944-cefef7512886",
   "metadata": {},
   "outputs": [
    {
     "name": "stdout",
     "output_type": "stream",
     "text": [
      "The name is jithu raj\n"
     ]
    }
   ],
   "source": [
    "class person:\n",
    "    def __init__(self,fname,lname):\n",
    "        self.fname=fname\n",
    "        self.lname=lname\n",
    "\n",
    "    def print1(self):\n",
    "        print(f\"The name is {self.fname} {self.lname}\")\n",
    "\n",
    "x=person(\"jithu\",\"raj\")\n",
    "x.print1()"
   ]
  },
  {
   "cell_type": "markdown",
   "id": "936a808b-f28c-4d7e-9bbd-7d50ad416e30",
   "metadata": {},
   "source": [
    "#### CHILD CLASS"
   ]
  },
  {
   "cell_type": "code",
   "execution_count": 73,
   "id": "1fb5fd45-7fa9-4e57-889b-ae7329560113",
   "metadata": {},
   "outputs": [
    {
     "name": "stdout",
     "output_type": "stream",
     "text": [
      "The name is jithu raj\n"
     ]
    }
   ],
   "source": [
    "class student(person):\n",
    "   def __init__(self,fname,lname):\n",
    "       person.__init__(self,fname,lname)\n",
    "\n",
    "x=student(\"jithu\",\"raj\")\n",
    "x.print1()\n"
   ]
  },
  {
   "cell_type": "markdown",
   "id": "096f26dd-ebdd-452a-893c-9f9e3e9e0b00",
   "metadata": {},
   "source": [
    "## POLYMORPHISM"
   ]
  },
  {
   "cell_type": "code",
   "execution_count": 84,
   "id": "d506d583-d880-4c47-9a52-d6ab9a8a4e1e",
   "metadata": {},
   "outputs": [],
   "source": [
    "class car:\n",
    "    def __init__(self,brand,model):\n",
    "        self.brand=brand\n",
    "        self.model=model\n",
    "\n",
    "    def print(self):\n",
    "        print(\"drive\")\n",
    "\n",
    "class boat:\n",
    "    def __init__(self,brand,model):\n",
    "        self.brand=brand\n",
    "        self.model=model\n",
    "\n",
    "    def print(self):\n",
    "         print(\"sale\")\n",
    "\n",
    "class plane:\n",
    "    def __init__(self,brand,model):\n",
    "        self.brand=brand\n",
    "        self.model=model\n",
    "\n",
    "    def print(self):\n",
    "         print(\"fly\")\n",
    "\n",
    "car = car(\"Ford\", \"Mustang\")       \n",
    "boat = boat(\"Ibiza\", \"Touring 20\") \n",
    "plane = plane(\"Boeing\", \"747\")"
   ]
  },
  {
   "cell_type": "code",
   "execution_count": 85,
   "id": "bd34f71d-8ad6-4ce4-8972-83e0ee2edfca",
   "metadata": {},
   "outputs": [
    {
     "name": "stdout",
     "output_type": "stream",
     "text": [
      "drive\n",
      "sale\n",
      "fly\n"
     ]
    }
   ],
   "source": [
    "for x in (car,boat,plane):\n",
    "    x.print()"
   ]
  }
 ],
 "metadata": {
  "kernelspec": {
   "display_name": "Python 3 (ipykernel)",
   "language": "python",
   "name": "python3"
  },
  "language_info": {
   "codemirror_mode": {
    "name": "ipython",
    "version": 3
   },
   "file_extension": ".py",
   "mimetype": "text/x-python",
   "name": "python",
   "nbconvert_exporter": "python",
   "pygments_lexer": "ipython3",
   "version": "3.12.4"
  }
 },
 "nbformat": 4,
 "nbformat_minor": 5
}
